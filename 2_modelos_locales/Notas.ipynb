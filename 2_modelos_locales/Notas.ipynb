{
 "cells": [
  {
   "cell_type": "markdown",
   "id": "a28776ee-734b-4606-b3c7-3bbcab2803c6",
   "metadata": {},
   "source": [
    "### Dominaras estas 3 dimensiones de la ingeniera LLM\n",
    "- Modelo:\n",
    "  Open-Source , Closed Source, Multimodal, Arquitectura, Seleccion.\n",
    "- Herramientas:\n",
    "  HuggingFace, LangChain, Gradio, Weights & Biases, Modal.\n",
    "- Tecnicas:\n",
    "  Apis, Multi-shot promting, Rag, Fine-Tuning, Agentizacion.\n",
    "\n",
    "### Dirgido a una amplia gana de experencia previa:\n",
    "- Demasiado facil: Aguanta Este curso se construira cada dia, Se avecina proyectos duros y divertidos.\n",
    "- Demasiado dificil: Tomate tu tiempo con las practicas, utiliza guias adicionales en la primera semana y pide ayuda.\n",
    "- Simplemente perfecto: Excelente.\n",
    "  \n",
    "Un nivel intermedio de python te posicionara mejor, pero con Jupyter Lab, adicional te dara todo lo que necesitas, saber.\n",
    "\n",
    "## Modelelos de Frontera Codigo cerrado\n",
    "\n",
    "Los mejores modelos los modelos de ounta de lanza mas importantes:\n",
    "- GPT de OpenAI\n",
    "- Claude de Antropic\n",
    "- Gemini de Google\n",
    "- Perplexity\n",
    "  \n",
    "## Modelos de frontera de Codigo Abierto\n",
    "- Deepseek\n",
    "- LLama de Meta\n",
    "- Mixtral de Mistral\n",
    "- Qwen de Alibaba Claud\n",
    "- Gemma de google\n",
    "\n",
    "## Tres formas de usar los modelos\n",
    "- Interfaces de chat: Como ChatGPT.\n",
    "- Cloud APIS: Framewoks como LanChain (Interfaz), Servicios de nuve de IA administrados: Amazon Bedrock, Google Vertex, Azure ML.\n",
    "- Inferencia directa: Con la biblioteca de Transformadores de HuggingFace, con Ollama para ejecutar localmente.\n",
    "- "
   ]
  }
 ],
 "metadata": {
  "kernelspec": {
   "display_name": "Python 3 (ipykernel)",
   "language": "python",
   "name": "python3"
  },
  "language_info": {
   "codemirror_mode": {
    "name": "ipython",
    "version": 3
   },
   "file_extension": ".py",
   "mimetype": "text/x-python",
   "name": "python",
   "nbconvert_exporter": "python",
   "pygments_lexer": "ipython3",
   "version": "3.11.13"
  }
 },
 "nbformat": 4,
 "nbformat_minor": 5
}
