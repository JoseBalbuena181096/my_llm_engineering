{
 "cells": [
  {
   "cell_type": "markdown",
   "id": "198ec75a-b170-4048-b7e1-5b84d83720d0",
   "metadata": {},
   "source": [
    "## Problema empresarial \n",
    "## Generador de folletos de ventas empresariales\n",
    "Crear un producto que pueda generar folletos sobre marketing sobre una empresa:\n",
    "- Para clientes potenciales\n",
    "- Para inversores\n",
    "- Para contratacion\n",
    "\n",
    "La tecnologia:\n",
    "- Usar OpenAI API\n",
    "- Usar one-shot prompting (Las aplicaciones que vamos a enviar al modelo, se le va enviar un ejemplo de lo que se espera del modelo, el Zero-shot es sin ejemplo que el modelo intuya como la solucion como debe darla)\n",
    "- Mostrar los resultados y con formato\n"
   ]
  }
 ],
 "metadata": {
  "kernelspec": {
   "display_name": "Python 3 (ipykernel)",
   "language": "python",
   "name": "python3"
  },
  "language_info": {
   "codemirror_mode": {
    "name": "ipython",
    "version": 3
   },
   "file_extension": ".py",
   "mimetype": "text/x-python",
   "name": "python",
   "nbconvert_exporter": "python",
   "pygments_lexer": "ipython3",
   "version": "3.11.13"
  }
 },
 "nbformat": 4,
 "nbformat_minor": 5
}
