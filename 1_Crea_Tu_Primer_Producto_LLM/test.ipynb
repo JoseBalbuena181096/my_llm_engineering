{
 "cells": [
  {
   "cell_type": "code",
   "execution_count": 2,
   "id": "937ce1cb",
   "metadata": {
    "vscode": {
     "languageId": "plaintext"
    }
   },
   "outputs": [
    {
     "name": "stdout",
     "output_type": "stream",
     "text": [
      "¡Hola! ¿Cómo estás? ¿En qué te gustaría que te ayude hoy? Puedo:\n",
      "\n",
      "- Explicar conceptos o resolver dudas\n",
      "- Traducir o revisar textos\n",
      "- Practicar español (conversación, vocabulario, gramática)\n",
      "- Resumir información o hacer listas\n",
      "- Planificar algo (viaje, estudio, proyectos)\n",
      "- Generar ideas o escribir mensajes, correos, etc.\n",
      "\n",
      "Dime si prefieres un tono formal o informal, y el tema en el que quieres empezar. ¿Qué te gustaría hacer?\n"
     ]
    }
   ],
   "source": [
    "import os\n",
    "from dotenv import load_dotenv\n",
    "from openai import OpenAI\n",
    "\n",
    "# Cargar variables de entorno desde el archivo .env\n",
    "load_dotenv('../.env')\n",
    "\n",
    "# Obtener la API key desde las variables de entorno\n",
    "api_key = os.getenv('OPENAI_API_KEY')\n",
    "# print(api_key)\n",
    "\n",
    "client = OpenAI(\n",
    "  api_key=api_key\n",
    ")\n",
    "\n",
    "response = client.responses.create(\n",
    "  model=\"gpt-5-nano\",\n",
    "  input=\"Hola\",\n",
    "  store=True,\n",
    ")\n",
    "\n",
    "print(response.output_text);"
   ]
  },
  {
   "cell_type": "code",
   "execution_count": null,
   "id": "8de869cd-45d4-4f23-9c38-1873cfb79b6e",
   "metadata": {},
   "outputs": [],
   "source": []
  }
 ],
 "metadata": {
  "kernelspec": {
   "display_name": "Python 3 (ipykernel)",
   "language": "python",
   "name": "python3"
  },
  "language_info": {
   "codemirror_mode": {
    "name": "ipython",
    "version": 3
   },
   "file_extension": ".py",
   "mimetype": "text/x-python",
   "name": "python",
   "nbconvert_exporter": "python",
   "pygments_lexer": "ipython3",
   "version": "3.11.13"
  }
 },
 "nbformat": 4,
 "nbformat_minor": 5
}
